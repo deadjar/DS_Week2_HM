{
 "cells": [
  {
   "cell_type": "markdown",
   "id": "ee789dba-7d33-4508-82a0-4b6af6712a15",
   "metadata": {},
   "source": [
    "# Homework 1"
   ]
  },
  {
   "cell_type": "code",
   "execution_count": 20,
   "id": "8e23b2e7-13fb-4661-ae23-3650f32a694d",
   "metadata": {},
   "outputs": [],
   "source": [
    "import os\n",
    "import pandas as pd"
   ]
  },
  {
   "cell_type": "markdown",
   "id": "8f41ed09-31d4-4221-8ff2-c6ba613884ff",
   "metadata": {},
   "source": [
    "### Setting Path"
   ]
  },
  {
   "cell_type": "code",
   "execution_count": 12,
   "id": "7b1e4eb8-cd40-4973-9813-752e905d0d50",
   "metadata": {},
   "outputs": [
    {
     "name": "stdout",
     "output_type": "stream",
     "text": [
      "16k_Movies.csv\n"
     ]
    },
    {
     "data": {
      "text/plain": [
       "[None]"
      ]
     },
     "execution_count": 12,
     "metadata": {},
     "output_type": "execute_result"
    }
   ],
   "source": [
    "path = r\"C:\\Users\\jaded\\Desktop\\DS_Week2_HM\"\n",
    "\n",
    "os.chdir(path)\n",
    "\n",
    "sourcefiles = os.listdir(path)\n",
    "#Checking if .csv file is recognized and if path is right.\n",
    "[print(file) for file in sourcefiles if file.endswith(\".csv\")]"
   ]
  },
  {
   "cell_type": "code",
   "execution_count": 67,
   "id": "45a332e0-4860-418d-b3f2-0ed631caf8b9",
   "metadata": {},
   "outputs": [],
   "source": [
    "# Manipulating Table\n",
    "#Reading each cell in .csv file and seperating them with a \",\"\n",
    "movie_data = pd.read_csv(\"16k_Movies.csv\",sep = \",\")\n",
    "# Using drop to remove the \"Unamed column\"\n",
    "# Manipulating Data \n",
    "movie_data.drop(columns = [\"Unnamed: 0\"], inplace = True)\n",
    "# Changing data format to pandas date time format\n",
    "movie_data[\"Release Date\"] = pd.to_datetime(movie_data[\"Release Date\"])\n",
    "# Creating the Year column\n",
    "movie_data[\"Year\"] = movie_data[\"Release Date\"].dt.year "
   ]
  },
  {
   "cell_type": "code",
   "execution_count": 77,
   "id": "795cbf1e-76e2-480d-a29b-fb40a5d5f96d",
   "metadata": {},
   "outputs": [],
   "source": [
    "# Grouping table columns by year and rating. In where it groups the\n",
    "# Movie data by year and finds the movie with the highest\n",
    "# Rating that year, extracts the movies\n",
    "# Then resets the data frame so it would look neat.\n",
    "highest_ratings_idx = movie_data.groupby([\"Year\"])[\"Rating\"].idxmax()\n",
    "highest_rated_movies = movie_data.iloc[highest_ratings_idx]\n",
    "highest_rated_movies.reset_index(drop = True, inplace = True)\n",
    "#highest_rated_movies"
   ]
  },
  {
   "cell_type": "code",
   "execution_count": 100,
   "id": "9e677c9a-0de7-42be-9673-845fb427815f",
   "metadata": {},
   "outputs": [],
   "source": [
    "# For Question #2 \n",
    "# Grouping table by directors and calculating how many movies they released\n",
    "# Sorting the table with number of films each director made.\n",
    "director_count = movie_data.groupby(\"Directed by\").agg(Num_Movies = pd.NamedAgg(\"Directed by\", \"size\")).sort_values(\"Num_Movies\", ascending = False).reset_index(drop = False)\n",
    "#director_count"
   ]
  },
  {
   "cell_type": "code",
   "execution_count": 102,
   "id": "06ed5c13-55e3-42f9-b557-8c4370d66a74",
   "metadata": {},
   "outputs": [],
   "source": [
    "# For Question #3\n",
    "#Grouping table by genre, and in each genre the highest rating\n",
    "highest_rated_genre = pd.DataFrame(movie_data.groupby(\"Genres\")[\"Rating\"].max()).sort_values(\"Rating\", ascending = False)\n",
    "highest_rated_genre.dropna(inplace = True)\n",
    "#highest_rated_genre"
   ]
  },
  {
   "cell_type": "markdown",
   "id": "c534dd54-b415-4ec8-8bee-8788b210192e",
   "metadata": {},
   "source": [
    "### Questions"
   ]
  },
  {
   "cell_type": "markdown",
   "id": "17daa57e-9345-4854-b3c5-5338434eee89",
   "metadata": {},
   "source": [
    "#### #1 What was the highest rated movie per year?"
   ]
  },
  {
   "cell_type": "code",
   "execution_count": 84,
   "id": "a725ee95-3080-4b04-ab5e-6e28f8e3cb78",
   "metadata": {},
   "outputs": [],
   "source": [
    "highest_rated_movies_per_year = pd.DataFrame(highest_rated_movies, columns = ['Year','Title','Rating'])\n",
    "#highest_rated_movies_per_year # Uncomment to see output."
   ]
  },
  {
   "cell_type": "markdown",
   "id": "77796fa0-54ab-4df7-92d7-9ceb02f422e1",
   "metadata": {},
   "source": [
    "#### #2 Which director has released the most number of movies over the years?\n"
   ]
  },
  {
   "cell_type": "code",
   "execution_count": 90,
   "id": "0e3fca15-a8ef-4652-a832-65aa4dbdd779",
   "metadata": {},
   "outputs": [],
   "source": [
    "#director_count # Uncomment to see output."
   ]
  },
  {
   "cell_type": "markdown",
   "id": "b2b7827e-4fc6-44ea-b479-d1f705df27a2",
   "metadata": {},
   "source": [
    "#### #3 Does a particular genre always have a high rating? If so, what genre?"
   ]
  },
  {
   "cell_type": "code",
   "execution_count": 96,
   "id": "c62de34f-01d0-4108-bc8f-43bd0652c4e9",
   "metadata": {},
   "outputs": [],
   "source": [
    "# highest_rated_genre # Uncomment to generate output"
   ]
  },
  {
   "cell_type": "markdown",
   "id": "a8e6b7dc-b4c6-4e4a-943f-0d58c3adba7a",
   "metadata": {},
   "source": [
    "#### #4 What are three additional questions you can ask of this dataset?"
   ]
  },
  {
   "cell_type": "code",
   "execution_count": 99,
   "id": "98e202db-b5f0-4210-9b0d-c4641e99c8e6",
   "metadata": {},
   "outputs": [],
   "source": [
    "# How many movies were released in each year?\n",
    "# What film had the least and most \"Number of Person Who Voted\"?\n",
    "# What genre is most common?"
   ]
  },
  {
   "cell_type": "code",
   "execution_count": 110,
   "id": "189c8bd6-9050-42f3-9e6f-cc4a1cf0450e",
   "metadata": {},
   "outputs": [
    {
     "data": {
      "text/plain": [
       "<pandas.core.groupby.generic.DataFrameGroupBy object at 0x000001BDF6F71760>"
      ]
     },
     "execution_count": 110,
     "metadata": {},
     "output_type": "execute_result"
    }
   ],
   "source": [
    "#movie_count_each_year = movie_data.groupby(\"Year\").agg(movies_yearly = pd.NamedAgg(\"Year\",\"Title\")).sort_values(\"movies_yearly\", ascending = False).reset_index(drop = False)\n",
    "movie_count_each_year"
   ]
  }
 ],
 "metadata": {
  "kernelspec": {
   "display_name": "Python 3 (ipykernel)",
   "language": "python",
   "name": "python3"
  },
  "language_info": {
   "codemirror_mode": {
    "name": "ipython",
    "version": 3
   },
   "file_extension": ".py",
   "mimetype": "text/x-python",
   "name": "python",
   "nbconvert_exporter": "python",
   "pygments_lexer": "ipython3",
   "version": "3.12.4"
  }
 },
 "nbformat": 4,
 "nbformat_minor": 5
}
